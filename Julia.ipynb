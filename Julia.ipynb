{
 "cells": [
  {
   "cell_type": "markdown",
   "id": "d8d6e63c",
   "metadata": {},
   "source": [
    "# Compute a Julia set with CUDA\n",
    "**Author**: Stephan Hageboeck, CERN\n",
    "\n",
    "In this notebook, we will write a simple GPU kernel to approximate a Julia (and a Fatou) set. For a complex number $z$ and a function $f(z)$,\n",
    "- the Julia set is the set of numbers that is completely invariant under repeated application of $f(z)$,\n",
    "- and the Fatou set is the complement of the Julia set.\n",
    "\n",
    "See e.g. the [Wikipedia](https://en.wikipedia.org/wiki/Julia_set) for more details on Julia/Fatou sets.\n",
    "\n",
    "For $f(z)$, we will use the following polynomial:\n",
    "\\begin{equation}\n",
    " f(z) = z^2 + c,\n",
    "\\end{equation}\n",
    "\n",
    "where $c$ is a complex number that we can choose. If we apply this function repeatedly to $z$, and $z$ blows up quickly, it is part of the Fatou set. We will explore the behaviour of $f(z)$ on a complex plane of 1024x1024 pixels, so we will have to apply our function a few hundred times to more than one million numbers, which is an excellent task for a GPU. For each point on the complex plane, we will keep applying the function until either the number blows up, or the maximum number of iterations is reached. Depending on how fast the number blows up, we will colour the pixel in the complex plane.\n",
    "\n",
    "This can look as follows for $f(z) = z^2 - 0.4 + 0.6i$:\n",
    "\n",
    "<img src=\"juliaExample.png\" width=\"400\">\n",
    "\n",
    "## CUDA progamming in a notebook?\n",
    "It is indeed a bit ununsual to program CUDA in a Python notebook. We will use a few tricks to make it work. The notebook provides a uniform environment to all participants, such that we can access the SWAN GPUs without having to worry about the operating systems and installed software every participant brings. In order to compile the cuda programs, we will\n",
    "- write a notebook cell into a `.cu` file\n",
    "- compile it using the nvcc compiler\n",
    "- invoke the application from the notebook\n",
    "- and convert the image such that the notebook can display it.\n"
   ]
  },
  {
   "cell_type": "markdown",
   "id": "6277d03a",
   "metadata": {},
   "source": [
    "## The Julia kernel\n",
    "Below we have a draft cuda program to approximate the Julia/Fatou sets. We want to create a kernel that applies $f(z)$ to each point in the complex plane for `maxIter` times or until $z$ starts to diverge. The floating-point coordinates for a pixel at index `(i, j)` have already been computed, but you have to figure out the correct pixel indices and write the loop to repeatedly apply the function $f(z)$.\n",
    "\n",
    "### Tasks\n",
    "1. In the `main()` function, allocate memory for all pixels. The writePPM function expects an array of pixels in the form `{y0={x0 x1 x2 x3 ...}, y1={x0 x1 x2 x3 ...}, ... y_n }`, so allocate a one-dimensional array with enough memory for x*y pixels. There's already a section that checks for possible cuda errors, so allocate the memory just before. Don't forget to free the memory when you're done.\n",
    "1. Launch the draft kernel from the main function. Check for possible errors.\n",
    "1. Figure out a way to compute the pixel indices `i` and `j` from `threadIdx.x` and `blockIdx.x`. Find a kernel launch configuration that covers the entire image.\n",
    "1. Implement the computation `z = z^2 + c`.\n",
    "   - We will not use any external complex number classes for this, so square the complex number by hand.\n",
    "   - Plug the computation in the loop. Check that it runs\n",
    "     - for a maximum of `maxIter` times\n",
    "     - or until z starts to diverge (`|z| >= maxMagnitude`).\n",
    "   - Check that the iteration at which z diverged is recorded in the pixel array. If it didn't diverge (e.g. because the point is part of the Julia set), set the pixel to 0.\n",
    "   - Note: We use 256 colours to colour the resulting image. We scale `k` into the range `[1, 256]` for best contrast, but it's not strictly necessary.\n",
    "1. Check if you can generate a Julia image like in the example.\n"
   ]
  },
  {
   "cell_type": "code",
   "execution_count": null,
   "id": "cdda63cf-6391-4786-8510-d71b3098a91f",
   "metadata": {},
   "outputs": [],
   "source": [
    "! mkdir -p"
   ]
  },
  {
   "cell_type": "code",
   "execution_count": null,
   "id": "778e2e85",
   "metadata": {},
   "outputs": [],
   "source": [
    "%%writefile tmp/julia.cu\n",
    "#include \"Timer.h\"\n",
    "#include \"julia.h\"\n",
    "\n",
    "#include <iostream>\n",
    "#include <cstdio>\n",
    "\n",
    "// This function writes an image to disk\n",
    "void writePPM(unsigned char const * pixels, size_t nx, size_t ny, const char * filename);\n",
    "\n",
    "// Use this to change the floating-point precision in the kernel\n",
    "using FPType = double;\n",
    "\n",
    "// We use this to set up our image:\n",
    "struct ImageDimensions {\n",
    "  FPType xmin;\n",
    "  FPType xmax;\n",
    "  size_t nx;\n",
    "  FPType ymin;\n",
    "  FPType ymax;\n",
    "  size_t ny;\n",
    "};\n",
    "\n",
    "__global__\n",
    "void julia(const ImageDimensions dim, size_t maxIter, FPType maxMagnitude,\n",
    "           unsigned char * image, FPType cReal, FPType cImag)\n",
    "{\n",
    "  // Compute the size of a pixel in x and y direction\n",
    "  const FPType dx = (dim.xmax - dim.xmin) / dim.nx;\n",
    "  const FPType dy = (dim.ymax - dim.ymin) / dim.ny;\n",
    "\n",
    "  // Task 3: From threadIdx and blockIdx, compute the indices i and j\n",
    "  // to address the pixels in x and y direction\n",
    "  // ------------------------------------------------------------------\n",
    "  const size_t i = 0;\n",
    "  const size_t j = 0;\n",
    "\n",
    "  if (i >= dim.nx || j >= dim.ny) return;\n",
    "\n",
    "  // Compute the starting values for z based on the pixel location\n",
    "  FPType zReal = dim.xmin + i * dx;\n",
    "  FPType zImag = dim.ymin + j * dy;\n",
    "\n",
    "  // Task 4: Compute Julia set\n",
    "  // -----------------------------\n",
    "  size_t k = 0;\n",
    "  while (k < maxIter && (zReal*zReal + zImag*zImag) < maxMagnitude*maxMagnitude) {\n",
    "    // Compute z^2 + c for complex numbers:\n",
    "\n",
    "\n",
    "    ++k;\n",
    "  }\n",
    "\n",
    "  image[i + dim.nx*j] = k < maxIter ? 1 + (255 * k)/maxIter : 0;\n",
    "}\n",
    "\n",
    "\n",
    "int main(int argc, char * argv[]) {\n",
    "  // Set up:\n",
    "  constexpr double plotRange = 1.6;\n",
    "  const FPType cReal = argc > 1 ? std::stod(argv[1]) : -0.4;\n",
    "  const FPType cImag = argc > 2 ? std::stod(argv[2]) :  0.6;\n",
    "  constexpr size_t sizeX = 1024;\n",
    "  constexpr size_t sizeY = 1024;\n",
    "  const ImageDimensions dim{-plotRange, plotRange, sizeX, -plotRange, plotRange, sizeY};\n",
    "\n",
    "  // Task 1: Allocate memory\n",
    "  // -----------------------\n",
    "  unsigned char * pixels;\n",
    "\n",
    "\n",
    "  if (const auto errorCode = cudaGetLastError(); errorCode != cudaSuccess) {\n",
    "    std::cerr << \"When allocating memory, encountered cuda error \" << errorCode << \" '\"\n",
    "              << cudaGetErrorName(errorCode)\n",
    "              << \"' with description:\"\n",
    "              << cudaGetErrorString(errorCode) << \"\\n\";\n",
    "    return 2;\n",
    "  }\n",
    "\n",
    "  /* call julia kernel to draw the Julia set into a buffer */\n",
    "  {\n",
    "    Timer kernelTimer{ \"Compute Julia set\" };\n",
    "\n",
    "    // Task 2: Launch the kernel\n",
    "    // -------------------------\n",
    "    constexpr auto nThread = 1;\n",
    "    constexpr auto nBlock = 1;\n",
    "\n",
    "    julia<<<nBlock, nThread>>>(dim, 256, 2.f, pixels, cReal, cImag);\n",
    "\n",
    "    if (const auto errorCode = cudaDeviceSynchronize(); errorCode != cudaSuccess) {\n",
    "      std::cerr << \"When submitting kernel, encountered cuda error '\"\n",
    "                << cudaGetErrorName(errorCode)\n",
    "                << \"' with description:\"\n",
    "                << cudaGetErrorString(errorCode) << \"\\n\";\n",
    "      return 3;\n",
    "    }\n",
    "  }\n",
    "\n",
    "  // write GPU arrays to disk as PPM image\n",
    "  writePPM(pixels, sizeX, sizeY, \"julia.ppm\");\n",
    "\n",
    "  return 0;\n",
    "}\n",
    "\n"
   ]
  },
  {
   "cell_type": "markdown",
   "id": "b60e4149",
   "metadata": {},
   "source": [
    "## Compile, execute, display\n",
    "To have consistent line numbers when compiling, we create an extra file that accounts for the empty line that's occupied by the `writefile` magic.\n",
    "For the compilation step, we add `-g` to have debug symbols in the executable, `-std=c++17` for modern C++, and `-O2` to benefit from compiler optimisations on the host side."
   ]
  },
  {
   "cell_type": "code",
   "execution_count": null,
   "id": "7f9e4908",
   "metadata": {},
   "outputs": [],
   "source": [
    "%%bash\n",
    "sed '1s/^/\\n/' < tmp/julia.cu > tmp/julia_extraLine.cu\n",
    "nvcc -I source/ tmp/julia_extraLine.cu -std=c++17 -g -O2 -o tmp/julia"
   ]
  },
  {
   "cell_type": "markdown",
   "id": "769b7ccf",
   "metadata": {},
   "source": [
    "### Execute\n",
    "You can pass the real and imaginary part for $c$ as arguments to the executable.\n",
    "\n",
    "Try for example:\n",
    "- `tmp/julia -0.4 0.6`\n",
    "- `tmp/julia 0.285 -0.01`\n",
    "\n",
    "IPython display doesn't natively support ppm images. Therefore, we use ImageMagick's `convert` to convert to png. A possible warning about a missing configure file can be ignored."
   ]
  },
  {
   "cell_type": "code",
   "execution_count": null,
   "id": "40668f26",
   "metadata": {},
   "outputs": [],
   "source": [
    "%%bash\n",
    "tmp/julia -0.4 0.6 && convert -size 256x256 julia.ppm julia.png"
   ]
  },
  {
   "cell_type": "markdown",
   "id": "318ea85b",
   "metadata": {},
   "source": [
    "### Display the output\n",
    "Note that what you see is mostly the Fatou set. We colour pixels based on how fast the function blew up. The Julia set is dark."
   ]
  },
  {
   "cell_type": "code",
   "execution_count": null,
   "id": "a0e4bcc8",
   "metadata": {},
   "outputs": [],
   "source": [
    "from IPython.display import Image\n",
    "Image(filename='julia.png')"
   ]
  },
  {
   "cell_type": "markdown",
   "id": "eb29824c",
   "metadata": {},
   "source": [
    "## Details on the image file\n",
    "If you are interested how we go from iteration number to the images, check the `writePPM` function in `julia.h`.\n",
    "The ppm image format P3 is a simple but inefficient image format to dump the output of our kernel. In P3, we can simply write the RGB values of every pixel as ASCII numbers.\n",
    "The files look as follows:\n",
    "```\n",
    "P3\n",
    "width height\n",
    "maxColorValue\n",
    "RGB pixelValues (starting from top left pixel)\n",
    "```\n",
    "White spaces are ignored, so the writePPM function adds tabs to separate the pixels and line breaks after each line."
   ]
  },
  {
   "cell_type": "code",
   "execution_count": null,
   "id": "2bc68ab4",
   "metadata": {},
   "outputs": [],
   "source": [
    "%cat julia.ppm"
   ]
  },
  {
   "cell_type": "markdown",
   "id": "a2771009",
   "metadata": {},
   "source": [
    "# Bonus Tasks\n",
    "## Floating-point precision\n",
    "The draft kernel was using double precision for the complex numbers. Check if the usage of single-precision floating-point numbers give satisfying results, and check the impact on the kernel execution. How fast can we go?\n",
    "\n",
    "## CPU equivalent\n",
    "There is a naive CPU kernel called `juliaCPU` that can be used as a drop-in replacement for the GPU kernel. Check its speed. How much speed up against a single CPU thread can you reach with the GPU?\n",
    "\n",
    "## Grid-strided loops for an image of arbitrary size\n",
    "You might have written a kernel where `i = threadIdx.x`. Whereas this is sufficient for our problem size, the maximum number of threads per SM is 1024, so your kernel might not be able to deal with larger images. Remember that you can use the grid-strided loop to process an array of arbitray size. Try using a grid-strided loop on an image of 2048x2048 pixels. You can use a linearised index from 0 to 2048x2048, and compute i and j using modulus and integer division."
   ]
  },
  {
   "cell_type": "markdown",
   "id": "939aafa4",
   "metadata": {},
   "source": [
    "# Solution?\n",
    "One possible solution can be found in [source/solution/julia.cu](source/solution/julia.cu)"
   ]
  },
  {
   "cell_type": "code",
   "execution_count": null,
   "id": "270ee4d3",
   "metadata": {},
   "outputs": [],
   "source": [
    "%load source/solution/julia.cu"
   ]
  }
 ],
 "metadata": {
  "CodeCell": {
   "cm_config": {
    "indentUnit": 2
   }
  },
  "kernelspec": {
   "display_name": "Python 3",
   "language": "python",
   "name": "python3"
  },
  "language_info": {
   "codemirror_mode": {
    "name": "ipython",
    "version": 3
   },
   "file_extension": ".py",
   "mimetype": "text/x-python",
   "name": "python",
   "nbconvert_exporter": "python",
   "pygments_lexer": "ipython3",
   "version": "3.9.12"
  },
  "latex_envs": {
   "LaTeX_envs_menu_present": true,
   "autoclose": false,
   "autocomplete": true,
   "bibliofile": "biblio.bib",
   "cite_by": "apalike",
   "current_citInitial": 1,
   "eqLabelWithNumbers": true,
   "eqNumInitial": 1,
   "hotkeys": {
    "equation": "Ctrl-E",
    "itemize": "Ctrl-I"
   },
   "labels_anchors": false,
   "latex_user_defs": false,
   "report_style_numbering": false,
   "user_envs_cfg": false
  }
 },
 "nbformat": 4,
 "nbformat_minor": 5
}
