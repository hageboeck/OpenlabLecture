{
 "cells": [
  {
   "cell_type": "markdown",
   "id": "269f9dd2",
   "metadata": {},
   "source": [
    "# First steps on the GPU\n",
    "**Author**: Stephan Hageboeck, CERN\n",
    "\n",
    "## CUDA progamming in a notebook?\n",
    "It is indeed a bit ununsual to program CUDA in a Python notebook. We will use a few tricks to make it work. The notebook provides a uniform environment to all participants, such that we can access the SWAN GPUs without having to worry about the operating systems and installed software every participant brings. In order to compile the cuda programs, we will\n",
    "- write a notebook cell into a `.cu` file\n",
    "- compile it using the nvcc compiler\n",
    "- invoke the application from the notebook\n",
    "- and convert the image such that the notebook can display it.\n",
    "\n",
    "Let's first check that we have a GPU attached to the session:"
   ]
  },
  {
   "cell_type": "code",
   "execution_count": null,
   "id": "42cf7686",
   "metadata": {},
   "outputs": [],
   "source": [
    "!nvidia-smi"
   ]
  },
  {
   "cell_type": "markdown",
   "id": "d8d6e63c",
   "metadata": {},
   "source": [
    "---------------------------------------------------------------------------\n",
    "\n",
    "# 1. HelloWorld example\n",
    "Here we have a very basic helloWorld program that prints a message from the host. Let's convert it into a GPU kernel.\n",
    "\n",
    "### Your tasks:\n",
    "- Convert the HelloWorld function to a kernel, and call it from main().\n",
    "- In the kernel, fill in the variables that print thread index and block index.\n",
    "- Try a few launch configurations with more threads / more blocks."
   ]
  },
  {
   "cell_type": "code",
   "execution_count": null,
   "id": "778e2e85",
   "metadata": {},
   "outputs": [],
   "source": [
    "%%writefile helloWorld.cu\n",
    "#include <cstdio>\n",
    "#include <iostream>\n",
    "\n",
    "// kernel definition\n",
    "void HelloWorld() {\n",
    "  printf(\"Hello world from block %d thread %d.\\n\", -1, -1);\n",
    "}\n",
    "\n",
    "int main() {\n",
    "  const auto nBlock = 1;\n",
    "  const auto nThread = 1;\n",
    "\n",
    "  HelloWorld();\n",
    "\n",
    "  if (auto errorCode = cudaDeviceSynchronize();\n",
    "      errorCode != cudaSuccess) {\n",
    "    std::cerr << \"Encountered cuda error '\"\n",
    "      << cudaGetErrorName(errorCode)\n",
    "      << \"' with description: \"\n",
    "      << cudaGetErrorString(errorCode) << \"\\n\";\n",
    "    return 1;\n",
    "  }\n",
    "\n",
    "  return 0;\n",
    "}\n",
    "\n"
   ]
  },
  {
   "cell_type": "markdown",
   "id": "b60e4149",
   "metadata": {},
   "source": [
    "## Compile, execute, display\n",
    "To have consistent line numbers when compiling, we use a little trick:\n",
    "- We create an intermediate file where we add an extra line that accounts for the line that's occupied by the `writefile` magic above.\n",
    "- We compile that file, so when you get an error, the lines numbers are like in the notebook.\n",
    "We put intermediate files in a `tmp/` folder, so they don't pollute our main directory.\n",
    "\n",
    "For the compilation step, we add `-g` to have debug symbols in the executable, `-std=c++17` for modern C++, and `-O2` to benefit from compiler optimisations on the host side."
   ]
  },
  {
   "cell_type": "code",
   "execution_count": null,
   "id": "7f9e4908",
   "metadata": {},
   "outputs": [],
   "source": [
    "%%bash\n",
    "mkdir -p tmp/\n",
    "sed '1s/.*/\\n\\0/' < helloWorld.cu > tmp/helloWorld.cu\n",
    "nvcc -I source/ tmp/helloWorld.cu -std=c++17 -g -O2 -o tmp/helloWorld"
   ]
  },
  {
   "cell_type": "markdown",
   "id": "769b7ccf",
   "metadata": {},
   "source": [
    "### Execute\n",
    "You can now invoke the executable in `tmp/` by prepending a `!`"
   ]
  },
  {
   "cell_type": "code",
   "execution_count": null,
   "id": "40668f26",
   "metadata": {},
   "outputs": [],
   "source": [
    "! tmp/helloWorld"
   ]
  },
  {
   "cell_type": "markdown",
   "id": "318ea85b",
   "metadata": {},
   "source": [
    "-------------------------------------\n",
    "\n",
    "\n",
    "# 2. Vector Addition\n",
    "In this example, we add two arrays on the host and on the device. We use timers to measure the execution speed. There's already a draft kernel that adds the two vectors with a single thread and a single block. We will now try to make this kernel much more efficient, and to fully utilise the device.\n",
    "\n",
    "The arrays are initialised as follows:\n",
    "```\n",
    "x = {0,  1,  2,  3, ...}\n",
    "y = {0, -1, -2, -3, ...}\n",
    "```\n",
    "We will run the computation\n",
    "```\n",
    "y[i] = x[i] + y[i]\n",
    "```\n",
    "once on the host and once on the device. If you do everything correctly, we would expect `y` to be\n",
    "```\n",
    "y = {0, 1, 2, 3, ...}\n",
    "```\n",
    "when you complete the task. The program will check this.\n",
    "\n",
    "**Note**:\n",
    "You don't need to understand every line of the program. Focus on the kernel, the kernel launch and the two tasks, which are marked in the source code.\n",
    "\n",
    "If you are interested in the timer: The `Timer` struct starts a timer when it is constructed, and it stops and prints the elapsed time when it goes out of\n",
    "scope. That's why the sections we want to time are in blocks delimited by `{ }`.\n",
    "\n",
    "### Your tasks:\n",
    "1. Implement an efficient grid-strided loop. Currently, every thread steps through every item.\n",
    "2. Find an efficient launch configuration to fully use the device.\n",
    "\n",
    "How fast can you make the kernel?"
   ]
  },
  {
   "cell_type": "code",
   "execution_count": null,
   "id": "a0e4bcc8",
   "metadata": {},
   "outputs": [],
   "source": [
    "%%writefile vectorAdd.cu\n",
    "#include \"Timer.h\"\n",
    "\n",
    "#include <algorithm>\n",
    "#include <cstdio>\n",
    "#include <iostream>\n",
    "#include <numeric>\n",
    "\n",
    "__global__\n",
    "void add(int n,  int * x,  int * y)\n",
    "{\n",
    "  // Task 1:\n",
    "  // ------------------------------------------------------\n",
    "  // Set index and stride such that we can run an efficient\n",
    "  // grid-strided loop\n",
    "\n",
    "  const auto index = 0;\n",
    "  const auto stride = 1;\n",
    "  for (int i = index; i < n; i += stride)\n",
    "    y[i] = x[i] + y[i];\n",
    "}\n",
    "\n",
    "bool checkResult(int * array, size_t N) {\n",
    "  for (size_t i = 0; i < N; ++i) {\n",
    "    if (array[i] != i) return false;\n",
    "  }\n",
    "  return true;\n",
    "}\n",
    "\n",
    "int main() {\n",
    "  // This is the length of the vectors we want to add:\n",
    "  const auto N = 100'000'000;\n",
    "\n",
    "  int * x;\n",
    "  int * y;\n",
    "  cudaMallocManaged(&x, N * sizeof( int), cudaMemAttachHost);\n",
    "  cudaMallocManaged(&y, N * sizeof( int), cudaMemAttachHost);\n",
    "\n",
    "  // Initialise arrays as follows:\n",
    "  // x = { 0,  1,  2, ... }\n",
    "  // y = {-0, -1, -2, ... }\n",
    "  {\n",
    "    Timer timer{ \"init arrays on host\" };\n",
    "    std::iota(x, x + N, 0);\n",
    "    std::transform(x, x + N, y, [](int i){ return -1 * i; });\n",
    "  }\n",
    "\n",
    "  // Add them once. Now y should be equal to 0:\n",
    "  {\n",
    "    Timer timer{ \"add on host\" };\n",
    "    for (unsigned int i = 0; i < N; ++i) {\n",
    "      y[i] = x[i] + y[i];\n",
    "    }\n",
    "  }\n",
    "\n",
    "  // Bring arrays to GPU.\n",
    "  // Note that this step is optional, because they would automatically\n",
    "  // be copied once the kernel accesses them.\n",
    "  // This enables us to time copy and compute separately.\n",
    "  {\n",
    "    Timer timer{ \"copy to device memory\" };\n",
    "    int currentDevice;\n",
    "    cudaGetDevice(&currentDevice);\n",
    "    cudaMemPrefetchAsync(x, N*sizeof(int), currentDevice);\n",
    "    cudaMemPrefetchAsync(y, N*sizeof(int), currentDevice);\n",
    "\n",
    "    if (const auto errorCode = cudaDeviceSynchronize();\n",
    "        errorCode != cudaSuccess) {\n",
    "      std::cerr << \"When copying, encountered cuda error \" << errorCode << \" '\"\n",
    "        << cudaGetErrorName(errorCode)\n",
    "        << \"' with description:\"\n",
    "        << cudaGetErrorString(errorCode) << \"\\n\";\n",
    "      return 2;\n",
    "    }\n",
    "  }\n",
    "\n",
    "\n",
    "  // Add them on the GPU. Now y should be {0, 1, 2, ...}\n",
    "  {\n",
    "    Timer timer{ \"add on device\" };\n",
    "\n",
    "    // Task 2:\n",
    "    // --------------------------------------------------------\n",
    "    // Find an efficient launch configuration that exhausts the\n",
    "    // capabilities of the device\n",
    "\n",
    "    const auto nBlock = 1;\n",
    "    const auto nThread = 1;\n",
    "\n",
    "    add<<< nBlock , nThread >>>(N, x, y);\n",
    "\n",
    "    if (const auto errorCode = cudaDeviceSynchronize();\n",
    "        errorCode != cudaSuccess) {\n",
    "      std::cerr << \"Encountered cuda error '\"\n",
    "        << cudaGetErrorName(errorCode)\n",
    "        << \"' with description: \"\n",
    "        << cudaGetErrorString(errorCode) << \"\\n\";\n",
    "      return 1;\n",
    "    }\n",
    "  }\n",
    "\n",
    "  {\n",
    "    Timer timer{ \"Access y array on host\" };\n",
    "\n",
    "    std::cout << \"\\ny[0] = \" << y[0]\n",
    "      << \"\\ny[\" << N/2 << \"] = \" << y[N/2]\n",
    "      << \"\\ny[\" << N-1 << \"] = \" << y[N-1] << \"\\n\";\n",
    "  }\n",
    "  if (checkResult(y, N))\n",
    "    std::cout << \"Addition seems to be correct.\\n\";\n",
    "  else\n",
    "    std::cout << \"Addition seems to have failed.\\n\";\n",
    "\n",
    "  cudaFree(x);\n",
    "  cudaFree(y);\n",
    "\n",
    "  return 0;\n",
    "}\n"
   ]
  },
  {
   "cell_type": "markdown",
   "id": "eb29824c",
   "metadata": {},
   "source": [
    "### Compile and execute\n",
    "We proceed as for the helloWorld example by correcting line numbers and compiling in `tmp/`."
   ]
  },
  {
   "cell_type": "code",
   "execution_count": null,
   "id": "2bc68ab4",
   "metadata": {
    "scrolled": true
   },
   "outputs": [],
   "source": [
    "%%bash\n",
    "mkdir -p tmp/\n",
    "sed '1s/.*/\\n\\0/' < vectorAdd.cu > tmp/vectorAdd.cu\n",
    "nvcc -I source/ tmp/vectorAdd.cu -std=c++17 -g -O2 -o tmp/vectorAdd"
   ]
  },
  {
   "cell_type": "markdown",
   "id": "62a23d5f",
   "metadata": {},
   "source": [
    "Run the executable. How fast can you go with an optimised launch configuration?"
   ]
  },
  {
   "cell_type": "code",
   "execution_count": null,
   "id": "dd580db2",
   "metadata": {},
   "outputs": [],
   "source": [
    "! tmp/vectorAdd"
   ]
  },
  {
   "cell_type": "markdown",
   "id": "939aafa4",
   "metadata": {},
   "source": [
    "# Solution?\n",
    "One possible solution can be found in [source/solution/vectorAdd.cu](source/solution/vectorAdd.cu)"
   ]
  },
  {
   "cell_type": "code",
   "execution_count": null,
   "id": "270ee4d3",
   "metadata": {},
   "outputs": [],
   "source": [
    "%load source/solution/vectorAdd.cu"
   ]
  }
 ],
 "metadata": {
  "CodeCell": {
   "cm_config": {
    "indentUnit": 2
   }
  },
  "kernelspec": {
   "display_name": "Python 3",
   "language": "python",
   "name": "python3"
  },
  "language_info": {
   "codemirror_mode": {
    "name": "ipython",
    "version": 3
   },
   "file_extension": ".py",
   "mimetype": "text/x-python",
   "name": "python",
   "nbconvert_exporter": "python",
   "pygments_lexer": "ipython3",
   "version": "3.9.12"
  },
  "latex_envs": {
   "LaTeX_envs_menu_present": true,
   "autoclose": false,
   "autocomplete": true,
   "bibliofile": "biblio.bib",
   "cite_by": "apalike",
   "current_citInitial": 1,
   "eqLabelWithNumbers": true,
   "eqNumInitial": 1,
   "hotkeys": {
    "equation": "Ctrl-E",
    "itemize": "Ctrl-I"
   },
   "labels_anchors": false,
   "latex_user_defs": false,
   "report_style_numbering": false,
   "user_envs_cfg": false
  }
 },
 "nbformat": 4,
 "nbformat_minor": 5
}
